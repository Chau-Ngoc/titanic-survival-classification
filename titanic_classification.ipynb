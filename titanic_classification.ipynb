{
 "cells": [
  {
   "cell_type": "markdown",
   "metadata": {},
   "source": [
    "# Titanic - Machine Learning from Disaster <a id='top'></a>\n",
    "Welcome! This notebook is going to build a model that predicts survival on the Titanic. The data used to build this model is collected from the [Kaggle's Titanic competition](https://www.kaggle.com/c/titanic/overview). \n",
    "\n",
    "The data is split into two groups: the training set (train.csv) and the test set (test.csv). The training set should be used to build the machine learning models. The test set should only be used for evaluating the model's performance.\n",
    "\n",
    "Data dictionary:\n",
    "| Variable | Definition | Key |\n",
    "|----------|------------|-----|\n",
    "| survival | Survival | 0 = No, 1 = Yes |\n",
    "| pclass | Ticket class | 1 = 1st, 2 = 2nd, 3 = 3rd |\n",
    "| sex | Sex | |\n",
    "| age | Age in years | |\n",
    "| sibsp | # of siblings / spouses aboard the Titanic | |\n",
    "| parch | # of parents / children aboard the Titanic | |\n",
    "| ticket | Ticket number | |\n",
    "| fare | Passenger fare | |\n",
    "| cabin | Cabin number | |\n",
    "| embark | Port of Embarkation | C = Cherbourg, Q = Queenstown, S = Southampton |\n",
    "\n",
    "Table of contents:\n",
    "1. [Data Exploratory](#eda)\n",
    "2. [Data Visualization](#data-visualization)\n",
    "3. [Handle Missing Data](#handle-na)\n",
    "4. [Preprocessing](#preprocessing)\n",
    "5. [Building Models](#build-models)"
   ]
  },
  {
   "cell_type": "code",
   "execution_count": null,
   "metadata": {},
   "outputs": [],
   "source": [
    "import pandas as pd\n",
    "import numpy as np\n",
    "import seaborn as sns\n",
    "import matplotlib.pyplot as plt\n",
    "import plotly.express as px\n",
    "import plotly.io as pio\n",
    "\n",
    "from sklearn.preprocessing import OneHotEncoder, StandardScaler\n",
    "from sklearn.compose import ColumnTransformer\n",
    "from sklearn.model_selection import train_test_split, GridSearchCV\n",
    "\n",
    "from sklearn.linear_model import LogisticRegression\n",
    "from sklearn.ensemble import RandomForestClassifier\n",
    "from sklearn.svm import SVC\n"
   ]
  },
  {
   "cell_type": "code",
   "execution_count": null,
   "metadata": {},
   "outputs": [],
   "source": [
    "sns.set_style(\"darkgrid\")\n",
    "plt.style.use(\"seaborn-darkgrid\")\n",
    "pio.renderers.default = \"notebook_connected\"\n"
   ]
  },
  {
   "cell_type": "markdown",
   "metadata": {},
   "source": [
    "## Data Exploratory <a id='eda'></a>\n",
    "[Back to top](#top)"
   ]
  },
  {
   "cell_type": "code",
   "execution_count": null,
   "metadata": {},
   "outputs": [],
   "source": [
    "df = pd.read_csv('./data/train.csv')\n",
    "df.head()"
   ]
  },
  {
   "cell_type": "code",
   "execution_count": null,
   "metadata": {},
   "outputs": [],
   "source": [
    "df.shape"
   ]
  },
  {
   "cell_type": "code",
   "execution_count": null,
   "metadata": {},
   "outputs": [],
   "source": [
    "df.info()"
   ]
  },
  {
   "cell_type": "code",
   "execution_count": null,
   "metadata": {},
   "outputs": [],
   "source": [
    "df.isna().sum()"
   ]
  },
  {
   "cell_type": "code",
   "execution_count": null,
   "metadata": {},
   "outputs": [],
   "source": [
    "df.describe().transpose()"
   ]
  },
  {
   "cell_type": "markdown",
   "metadata": {},
   "source": [
    "## Data Visualization <a id='data-visualization'></a>\n",
    "[Back to top](#top)"
   ]
  },
  {
   "cell_type": "code",
   "execution_count": null,
   "metadata": {},
   "outputs": [],
   "source": [
    "plt.figure(figsize=(6, 5), dpi=200)\n",
    "sns.heatmap(df.corr(), annot=True, cmap='viridis')\n",
    "plt.show()\n"
   ]
  },
  {
   "cell_type": "code",
   "execution_count": null,
   "metadata": {},
   "outputs": [],
   "source": [
    "fig = px.histogram(\n",
    "    data_frame=df, x=\"Survived\", title=\"How Many Died, How Many Survived?\"\n",
    ")\n",
    "fig.update_layout(xaxis={\"type\": \"category\"})\n",
    "fig.show()\n"
   ]
  },
  {
   "cell_type": "markdown",
   "metadata": {},
   "source": [
    "Age distribution of male and female passengers aboard the Titanic:"
   ]
  },
  {
   "cell_type": "code",
   "execution_count": null,
   "metadata": {},
   "outputs": [],
   "source": [
    "fig = px.histogram(\n",
    "    data_frame=df,\n",
    "    x=\"Age\",\n",
    "    color=\"Sex\",\n",
    "    barmode=\"group\",\n",
    "    marginal=\"box\",\n",
    "    title=\"Age Distribution of Male and Female Passengers aboard the Titanic\",\n",
    ")\n",
    "fig.show()\n"
   ]
  },
  {
   "cell_type": "markdown",
   "metadata": {},
   "source": [
    "The majority of people aboard the Titanic were in their 20s and 30s.\n",
    "\n",
    "Age distribution of passengers who did not survive:"
   ]
  },
  {
   "cell_type": "code",
   "execution_count": null,
   "metadata": {},
   "outputs": [],
   "source": [
    "fig = px.histogram(\n",
    "    data_frame=df[df[\"Survived\"] == 0],\n",
    "    x=\"Age\",\n",
    "    color=\"Sex\",\n",
    "    barmode=\"group\",\n",
    "    marginal=\"box\",\n",
    "    title=\"Age distribution of Passengers whom did not survive the Disaster\",\n",
    ")\n",
    "fig.show()\n"
   ]
  },
  {
   "cell_type": "markdown",
   "metadata": {},
   "source": [
    "Passengers who died were mostly in their late 10s and early 40s, and were mainly male passengers."
   ]
  },
  {
   "cell_type": "code",
   "execution_count": null,
   "metadata": {},
   "outputs": [],
   "source": [
    "fig = px.histogram(data_frame=df[df['Survived'] == 0], x='Sex', title='Number of Deceased Passengers')\n",
    "fig.show()"
   ]
  },
  {
   "cell_type": "markdown",
   "metadata": {},
   "source": [
    "It looks like a lot of male passengers died with the ship, nearly 6 times greater than that of female passengers.\n",
    "\n",
    "Let's look at survival status for each class."
   ]
  },
  {
   "cell_type": "code",
   "execution_count": null,
   "metadata": {},
   "outputs": [],
   "source": [
    "fig = px.box(\n",
    "    data_frame=df,\n",
    "    x=\"Pclass\",\n",
    "    y=\"Age\",\n",
    "    color=\"Survived\",\n",
    "    title=\"Age distribution per Class split by Survival status\",\n",
    ")\n",
    "fig.show()\n"
   ]
  },
  {
   "cell_type": "markdown",
   "metadata": {},
   "source": [
    "It looks like there is a same pattern for all three classes that older people did not survive."
   ]
  },
  {
   "cell_type": "code",
   "execution_count": null,
   "metadata": {},
   "outputs": [],
   "source": [
    "fig = px.histogram(\n",
    "    data_frame=df,\n",
    "    x=\"Pclass\",\n",
    "    color=\"Survived\",\n",
    "    barmode=\"group\",\n",
    "    title=\"Number of Passengers per Class Split by Survival status\",\n",
    ")\n",
    "fig.show()\n"
   ]
  },
  {
   "cell_type": "markdown",
   "metadata": {},
   "source": [
    "And the third class accounted for more deaths than the other two classes.\n",
    "\n",
    "Now I want to gain insight on the ports of embarkation. Which port has the most passengers?"
   ]
  },
  {
   "cell_type": "code",
   "execution_count": null,
   "metadata": {},
   "outputs": [],
   "source": [
    "fig = px.histogram(\n",
    "    data_frame=df,\n",
    "    x=\"Embarked\",\n",
    "    color=\"Survived\",\n",
    "    title=\"Number of Passengers at each Port Split by Survival status\",\n",
    ")\n",
    "fig.show()\n"
   ]
  },
  {
   "cell_type": "markdown",
   "metadata": {},
   "source": [
    "A lot of passengers boarded the Titanic at Southampton port.\n",
    "\n",
    "Finally, probably not relevant, but I want to check if `SibSp`, `Parch` and `Fare` affect `Survived` or not."
   ]
  },
  {
   "cell_type": "code",
   "execution_count": null,
   "metadata": {},
   "outputs": [],
   "source": [
    "unrelevant_features = df[[\"SibSp\", \"Parch\", \"Fare\", \"Survived\"]].corr()\n",
    "unrelevant_features['Survived']"
   ]
  },
  {
   "cell_type": "code",
   "execution_count": null,
   "metadata": {},
   "outputs": [],
   "source": [
    "plt.figure(figsize=(6, 5), dpi=200)\n",
    "sns.heatmap(unrelevant_features, annot=True, linewidths=0.3)\n",
    "plt.show()\n"
   ]
  },
  {
   "cell_type": "markdown",
   "metadata": {},
   "source": [
    "So it looks like the `Fare` actually have a positive relationship with `Survived`, not by much but worth noticing. Let's plot a box plot to visualize this clearer."
   ]
  },
  {
   "cell_type": "code",
   "execution_count": null,
   "metadata": {},
   "outputs": [],
   "source": [
    "fig = px.box(\n",
    "    data_frame=df,\n",
    "    x=\"Survived\",\n",
    "    y=\"Fare\",\n",
    "    title=\"Does Fare affect Passengers' Survival Status?\",\n",
    ")\n",
    "fig.show()\n"
   ]
  },
  {
   "cell_type": "markdown",
   "metadata": {},
   "source": [
    "Looks like there is a segregation between rich and poor people. For example, the number of deceased passengers from third class is a lot greater than that of first class and second class. Or a lot of passengers who purchased higher fare ticket survived the event."
   ]
  },
  {
   "cell_type": "markdown",
   "metadata": {},
   "source": [
    "## Handle Missing Data <a id='handle-na'></a>\n",
    "[Back to top](#top)\n",
    "\n",
    "Let's take a look back our data to see which columns contain missing data."
   ]
  },
  {
   "cell_type": "code",
   "execution_count": null,
   "metadata": {},
   "outputs": [],
   "source": [
    "df.isna().sum()"
   ]
  },
  {
   "cell_type": "markdown",
   "metadata": {},
   "source": [
    "### The `Embarked` column\n",
    "First, I want to drop the 2 missing values of the `Embarked` column since they only account for 0.2 percent of the entire data."
   ]
  },
  {
   "cell_type": "code",
   "execution_count": null,
   "metadata": {},
   "outputs": [],
   "source": [
    "df = df.dropna(subset=['Embarked'])\n",
    "df.isna().sum()\n"
   ]
  },
  {
   "cell_type": "markdown",
   "metadata": {},
   "source": [
    "### The `Age` column\n",
    "Next is the `Age` column. I want to look at the statistics for this column to strengthen my decision."
   ]
  },
  {
   "cell_type": "code",
   "execution_count": null,
   "metadata": {},
   "outputs": [],
   "source": [
    "df['Age'].describe()"
   ]
  },
  {
   "cell_type": "code",
   "execution_count": null,
   "metadata": {},
   "outputs": [],
   "source": [
    "fig = px.histogram(data_frame=df, x=\"Age\", marginal=\"box\")\n",
    "fig.show()\n"
   ]
  },
  {
   "cell_type": "markdown",
   "metadata": {},
   "source": [
    "The mean and the median of `Age` column are pretty close together. I'm not done here. I want to see which class those passengers with missing age values are from."
   ]
  },
  {
   "cell_type": "code",
   "execution_count": null,
   "metadata": {},
   "outputs": [],
   "source": [
    "df[df['Age'].isna()]"
   ]
  },
  {
   "cell_type": "code",
   "execution_count": null,
   "metadata": {},
   "outputs": [],
   "source": [
    "fig = px.histogram(\n",
    "    data_frame=df[df[\"Age\"].isna()],\n",
    "    x=\"Pclass\",\n",
    "    title=\"Numbers of Passengers with Missing Age Values per Class\",\n",
    ")\n",
    "fig.update_layout(xaxis={\"categoryorder\": \"category ascending\", \"type\": \"category\"})\n",
    "fig.show()\n"
   ]
  },
  {
   "cell_type": "markdown",
   "metadata": {},
   "source": [
    "Passengers with missing age values are mostly from third class. I want to fill in those missing values with the age median of the corresponding class. \n",
    "\n",
    "Meaning:\n",
    "* Passengers with missing age values from first class will be filled with the age median of first class.\n",
    "* Passengers with missing age values from second class will be filled with the age median of second class.\n",
    "* Passengers with missing age values from third class will be filled with the age median of third class."
   ]
  },
  {
   "cell_type": "code",
   "execution_count": null,
   "metadata": {},
   "outputs": [],
   "source": [
    "age_median_pclass = df.groupby('Pclass').median()['Age']\n",
    "age_median_pclass"
   ]
  },
  {
   "cell_type": "code",
   "execution_count": null,
   "metadata": {},
   "outputs": [],
   "source": [
    "fig = px.box(data_frame=df, x=\"Pclass\", y=\"Age\", title=\"Age Distribution per Class before Filling Missing Values\")\n",
    "fig.show()\n"
   ]
  },
  {
   "cell_type": "markdown",
   "metadata": {},
   "source": [
    "So:\n",
    "* Missing age values of passengers from first class will be filled with 37.\n",
    "* Missing age values of passengers from second class will be filled with 29.\n",
    "* Missing age values of passengers from third class will be filled with 24.\n"
   ]
  },
  {
   "cell_type": "code",
   "execution_count": null,
   "metadata": {},
   "outputs": [],
   "source": [
    "def fill_age(pclass, age):\n",
    "    if np.isnan(age):\n",
    "        return age_median_pclass[pclass]\n",
    "    else:\n",
    "        return age\n"
   ]
  },
  {
   "cell_type": "code",
   "execution_count": null,
   "metadata": {},
   "outputs": [],
   "source": [
    "df[\"Age\"] = df.apply(lambda table: fill_age(table[\"Pclass\"], table[\"Age\"]), axis=1)\n"
   ]
  },
  {
   "cell_type": "code",
   "execution_count": null,
   "metadata": {},
   "outputs": [],
   "source": [
    "df.isna().sum()"
   ]
  },
  {
   "cell_type": "code",
   "execution_count": null,
   "metadata": {},
   "outputs": [],
   "source": [
    "fig = px.box(data_frame=df, x=\"Pclass\", y=\"Age\", title=\"Age Distribution per Class after Filling Missing Values\")\n",
    "fig.show()\n"
   ]
  },
  {
   "cell_type": "markdown",
   "metadata": {},
   "source": [
    "### The `Cabin` column"
   ]
  },
  {
   "cell_type": "code",
   "execution_count": null,
   "metadata": {},
   "outputs": [],
   "source": [
    "df['Cabin'].sort_values()"
   ]
  },
  {
   "cell_type": "code",
   "execution_count": null,
   "metadata": {},
   "outputs": [],
   "source": [
    "fig = px.histogram(x=df[\"Cabin\"].sort_values(), title=\"Cabin Value Counts\")\n",
    "fig.update_layout(xaxis_title=\"Unique Cabin Values\")\n",
    "fig.show()\n"
   ]
  },
  {
   "cell_type": "markdown",
   "metadata": {},
   "source": [
    "I notice the naming convention is a letter followed by two or three digits. I also notice there are some strange cabin name entries such as `B57 B59 B63 B66`, `C23 C25 C27`, `D10 D12`, `C62 C64`, etc. Those cabins were probably occupied by members of the same family."
   ]
  },
  {
   "cell_type": "code",
   "execution_count": null,
   "metadata": {},
   "outputs": [],
   "source": [
    "df[df[\"Cabin\"] == \"B57 B59 B63 B66\"]\n"
   ]
  },
  {
   "cell_type": "markdown",
   "metadata": {},
   "source": [
    "The Ryerson family had 5 members including 3 siblings and 2 parents. They were staying in 4 cabins: B57, B59 B63 and B66. Only two sisters survived, the other members were missing."
   ]
  },
  {
   "cell_type": "code",
   "execution_count": null,
   "metadata": {},
   "outputs": [],
   "source": [
    "df[df['Cabin'] == 'D10 D12']"
   ]
  },
  {
   "cell_type": "markdown",
   "metadata": {},
   "source": [
    "Mr. William Bertram had one parent/child aboard the Titanic. He probalby stayed in one room and the other family member stayed in the other. Unfortunately, we don't know who the other family member is, probably that family member is the one that has `NaN` for Cabin number.\n",
    "\n",
    "I want to create another column called \"Cabin Class\" which contains the first letter of each value in the \"Cabin\" column. This way, I can treat the \"Cabin Class\" column as the high-level class and the \"Cabin\" column as the detailed subclass of the \"Cabin Class\" column."
   ]
  },
  {
   "cell_type": "code",
   "execution_count": null,
   "metadata": {},
   "outputs": [],
   "source": [
    "df['Cabin Class'] = df['Cabin'].map(lambda x: x[0], na_action='ignore')\n"
   ]
  },
  {
   "cell_type": "code",
   "execution_count": null,
   "metadata": {},
   "outputs": [],
   "source": [
    "df[['Cabin', 'Cabin Class']]"
   ]
  },
  {
   "cell_type": "code",
   "execution_count": null,
   "metadata": {},
   "outputs": [],
   "source": [
    "df['Cabin Class'].unique()"
   ]
  },
  {
   "cell_type": "markdown",
   "metadata": {},
   "source": [
    "For the `NaN` in the \"Cabin Class\", I want to assign **U** to them (U stands for unknown cabin class)."
   ]
  },
  {
   "cell_type": "code",
   "execution_count": null,
   "metadata": {},
   "outputs": [],
   "source": [
    "df['Cabin Class'] = df['Cabin Class'].fillna('U')"
   ]
  },
  {
   "cell_type": "code",
   "execution_count": null,
   "metadata": {},
   "outputs": [],
   "source": [
    "df['Cabin Class'].unique()"
   ]
  },
  {
   "cell_type": "markdown",
   "metadata": {},
   "source": [
    "Now let's drop the \"Cabin\" column since it is not necessary anymore."
   ]
  },
  {
   "cell_type": "code",
   "execution_count": null,
   "metadata": {},
   "outputs": [],
   "source": [
    "df = df.drop('Cabin', axis=1)"
   ]
  },
  {
   "cell_type": "code",
   "execution_count": null,
   "metadata": {},
   "outputs": [],
   "source": [
    "df.isna().sum()"
   ]
  },
  {
   "cell_type": "markdown",
   "metadata": {},
   "source": [
    "## Preprocessing <a id='preprocessing'></a>\n",
    "[Back to top](#top)"
   ]
  },
  {
   "cell_type": "code",
   "execution_count": null,
   "metadata": {},
   "outputs": [],
   "source": [
    "df.sample(n=10)"
   ]
  },
  {
   "cell_type": "code",
   "execution_count": null,
   "metadata": {},
   "outputs": [],
   "source": [
    "X = df.drop([\"PassengerId\", \"Survived\", \"Name\", \"Ticket\", \"SibSp\", \"Parch\"], axis=1)\n",
    "y = df[\"Survived\"]\n"
   ]
  },
  {
   "cell_type": "code",
   "execution_count": null,
   "metadata": {},
   "outputs": [],
   "source": [
    "X.columns\n"
   ]
  },
  {
   "cell_type": "code",
   "execution_count": null,
   "metadata": {},
   "outputs": [],
   "source": [
    "categorical_columns = [\"Sex\", \"Embarked\", \"Cabin Class\"]\n",
    "\n",
    "one_hot = OneHotEncoder(handle_unknown=\"ignore\", drop='first')\n",
    "column_transformer = ColumnTransformer(\n",
    "    [(\"one_hot\", one_hot, categorical_columns)], remainder=\"passthrough\"\n",
    ")\n",
    "\n",
    "X = column_transformer.fit_transform(X)\n"
   ]
  },
  {
   "cell_type": "code",
   "execution_count": null,
   "metadata": {},
   "outputs": [],
   "source": [
    "column_transformer.get_feature_names_out()"
   ]
  },
  {
   "cell_type": "code",
   "execution_count": null,
   "metadata": {},
   "outputs": [],
   "source": [
    "X_train, X_test, y_train, y_test = train_test_split(X, y, test_size=0.1, random_state=7)\n"
   ]
  },
  {
   "cell_type": "code",
   "execution_count": null,
   "metadata": {},
   "outputs": [],
   "source": [
    "scaler = StandardScaler()\n",
    "\n",
    "X_train = scaler.fit_transform(X_train)\n",
    "X_test = scaler.transform(X_test)\n"
   ]
  },
  {
   "cell_type": "markdown",
   "metadata": {},
   "source": [
    "## Building Models <a id='build-models'></a>\n",
    "[Back to top](#top)\n",
    "\n",
    "We are going to train 3 models and compare the results of them. The three models are SVC, RandomForestClassifier and LogisticRegression."
   ]
  },
  {
   "cell_type": "code",
   "execution_count": null,
   "metadata": {},
   "outputs": [],
   "source": [
    "# SVC hyperparameters grid\n",
    "params_grid_svc = {\n",
    "    \"C\": np.logspace(-3, 0, 10),\n",
    "    \"kernel\": [\"linear\", \"poly\", \"rbf\", \"sigmoid\"],\n",
    "    \"degree\": np.arange(2, 5),\n",
    "    \"class_weight\": [\"balanced\", None],\n",
    "    \"max_iter\": [100, 1000, 5000],\n",
    "}\n",
    "\n",
    "# RandomForestClassifier hyperparameters grid\n",
    "params_grid_rf_clf = {\n",
    "    \"n_estimators\": np.arange(100, 1000, 100),\n",
    "    \"max_features\": [\"sqrt\", \"log2\"],\n",
    "}\n",
    "\n",
    "# LogisticRegression hyperparameters grid\n",
    "params_grid_log_reg = {\n",
    "    \"penalty\": [\"l1\", \"l2\", \"elasticnet\"],\n",
    "    \"C\": np.logspace(-3, 0, 10),\n",
    "    \"class_weight\": [\"balanced\", None],\n",
    "    \"solver\": [\"lbfgs\", \"liblinear\", \"saga\"],\n",
    "    \"max_iter\": [100, 1000, 5000],\n",
    "    \"l1_ratio\": [0.1, 0.2, 0.5, 0.7, 0.9, 0.95, 1],\n",
    "}\n"
   ]
  },
  {
   "cell_type": "code",
   "execution_count": null,
   "metadata": {},
   "outputs": [],
   "source": [
    "gs_svc = GridSearchCV(SVC(), param_grid=params_grid_svc, cv=10, scoring=\"accuracy\")\n",
    "\n",
    "gs_rf_clf = GridSearchCV(\n",
    "    RandomForestClassifier(), param_grid=params_grid_rf_clf, cv=10, scoring=\"accuracy\"\n",
    ")\n",
    "\n",
    "gs_log_reg = GridSearchCV(\n",
    "    LogisticRegression(), param_grid=params_grid_log_reg, cv=10, scoring=\"accuracy\"\n",
    ")\n"
   ]
  },
  {
   "cell_type": "code",
   "execution_count": null,
   "metadata": {},
   "outputs": [],
   "source": [
    "gs_svc.fit(X_train, y_train)\n"
   ]
  },
  {
   "cell_type": "code",
   "execution_count": null,
   "metadata": {},
   "outputs": [],
   "source": [
    "gs_rf_clf.fit(X_train, y_train)\n"
   ]
  },
  {
   "cell_type": "code",
   "execution_count": null,
   "metadata": {},
   "outputs": [],
   "source": [
    "gs_log_reg.fit(X_train, y_train)\n"
   ]
  },
  {
   "cell_type": "code",
   "execution_count": null,
   "metadata": {},
   "outputs": [],
   "source": [
    "gs_svc.best_score_\n"
   ]
  },
  {
   "cell_type": "code",
   "execution_count": null,
   "metadata": {},
   "outputs": [],
   "source": [
    "gs_rf_clf.best_score_\n"
   ]
  },
  {
   "cell_type": "code",
   "execution_count": null,
   "metadata": {},
   "outputs": [],
   "source": [
    "gs_log_reg.best_score_\n"
   ]
  },
  {
   "cell_type": "code",
   "execution_count": null,
   "metadata": {},
   "outputs": [],
   "source": []
  }
 ],
 "metadata": {
  "interpreter": {
   "hash": "3c410d016ea00b377b3072913bf92edae0a1ceed3fc296e8331557e019ae1c90"
  },
  "kernelspec": {
   "display_name": "Python 3.9.7 64-bit ('env': venv)",
   "language": "python",
   "name": "python3"
  },
  "language_info": {
   "codemirror_mode": {
    "name": "ipython",
    "version": 3
   },
   "file_extension": ".py",
   "mimetype": "text/x-python",
   "name": "python",
   "nbconvert_exporter": "python",
   "pygments_lexer": "ipython3",
   "version": "3.9.7"
  },
  "orig_nbformat": 4
 },
 "nbformat": 4,
 "nbformat_minor": 2
}
